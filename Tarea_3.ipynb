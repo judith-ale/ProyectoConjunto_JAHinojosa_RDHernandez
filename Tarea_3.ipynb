{
  "cells": [
    {
      "cell_type": "markdown",
      "metadata": {
        "id": "JepO2oglTJXx"
      },
      "source": [
        "<img style=\"float: left; margin: 30px 15px 15px 15px;\" src=\"https://encrypted-tbn0.gstatic.com/images?q=tbn:ANd9GcTFzQj91sOlkeDFkg5HDbjtR4QJYmLXkfMNig&usqp=CAU\" width=\"400\" height=\"500\" />\n",
        "    \n",
        "    \n",
        "### <font color='navy'> Modelos no lineales para pronósticos.\n",
        "\n",
        "**Nombres:**\n",
        "- Judith Alejandra Hinojosa Rábago\n",
        "- Kaleb Azael Ávila Padilla\n",
        "\n",
        "**Fecha:** 15 de febrero del 2024.\n",
        "\n",
        "**Expediente** :\n",
        "- 737456\n",
        "- 724405\n",
        "\n",
        "**Profesor:** Oscar David Jaramillo Zuluaga.\n",
        "    \n",
        "**Link Github**: [https://github.com/judith-ale/ProyectoConjunto_JAHinojosa_KAAvila](https://github.com/judith-ale/ProyectoConjunto_JAHinojosa_KAAvila)\n",
        "\n",
        "# Tarea 3: Clase 7"
      ]
    },
    {
      "cell_type": "markdown",
      "metadata": {
        "id": "wieJ_cVjTJX6"
      },
      "source": [
        "## Enunciado de tarea\n",
        "\n",
        "Condensar todos los procedimientos realizados en esta clase donde se implementen los métodos necesarios para crear un correcto flujo de lectura de datos, análisis, ajuste de parámetros, predicción y métricas de errores para un conjunto de datos dado. Algo como lo siguiente:\n",
        "\n",
        "```\n",
        "class LinearForecast:\n",
        "    def __init__(self, atributos_del_contructor):\n",
        "        \n",
        "    def adf_test(self):\n",
        "        \n",
        "    def plot_acf_pac(self):\n",
        "        \n",
        "        .\n",
        "        .\n",
        "        .\n",
        "```\n",
        "\n",
        "\n",
        "Implementar los métodos y las lógicas que consideren pertinentes, como de igual forma las posibles variables a introducir en el constructor de la clase.\n",
        "\n",
        "Posteriormente, utilizar la clase anteriormente creada para generar un modelo SARIMAX para el siguiente [conjunto de datos](https://github.com/quaesito/time-series-forecast-sarimax-prophet/blob/master/A4.xlsx?raw=true\n",
        ")."
      ]
    },
    {
      "cell_type": "markdown",
      "metadata": {
        "id": "SzHpG8jxTJX_"
      },
      "source": [
        "### Ejercicio 1: Condensar todos los procedimientos realizados en esta clase donde se implementen los métodos necesarios para crear un correcto flujo de lectura de datos, análisis, ajuste de parámetros, predicción y métricas de errores para un conjunto de datos dado."
      ]
    },
    {
      "cell_type": "markdown",
      "metadata": {
        "id": "bwxL05EUTJYD"
      },
      "source": [
        "#### Estudiante 1: Judith Alejandra Hinojosa Rábago"
      ]
    },
    {
      "cell_type": "code",
      "execution_count": null,
      "metadata": {
        "id": "XXbX70NqTJYH"
      },
      "outputs": [],
      "source": [
        "# Código de solución estudiante 1\n",
        ".\n",
        ".\n",
        ".\n",
        ".\n"
      ]
    },
    {
      "cell_type": "markdown",
      "metadata": {
        "id": "hU9yh2FRTJYM"
      },
      "source": [
        "#### Estudiante 2: Kaleb Azael Ávila Padilla"
      ]
    },
    {
      "cell_type": "code",
      "execution_count": null,
      "metadata": {
        "id": "Ynaflv0UTJYP"
      },
      "outputs": [],
      "source": [
        "# Código de solución estudiante 2\n",
        ".\n",
        ".\n",
        ".\n",
        ".\n"
      ]
    },
    {
      "cell_type": "markdown",
      "metadata": {
        "id": "glMck8SETJYT"
      },
      "source": [
        "### Respuesta planteada en el ejercicio 1 usando (markdown)\n",
        " La respuesta es ........."
      ]
    },
    {
      "cell_type": "markdown",
      "metadata": {
        "id": "4lgIpJ2VUzoa"
      },
      "source": [
        "### Ejercicio 2: Implementar los métodos y las lógicas que consideren pertinentes, como de igual forma las posibles variables a introducir en el constructor de la clase."
      ]
    },
    {
      "cell_type": "markdown",
      "metadata": {
        "id": "BAzeix8jUzoq"
      },
      "source": [
        "#### Estudiante 1: Judith Alejandra Hinojosa Rábago"
      ]
    },
    {
      "cell_type": "code",
      "execution_count": null,
      "metadata": {
        "id": "QL6Bc42RUzov"
      },
      "outputs": [],
      "source": [
        "# Código de solución estudiante 1\n",
        ".\n",
        ".\n",
        ".\n",
        ".\n"
      ]
    },
    {
      "cell_type": "markdown",
      "metadata": {
        "id": "HfF0W0kqUzo0"
      },
      "source": [
        "#### Estudiante 2: Kaleb Azael Ávila Padilla"
      ]
    },
    {
      "cell_type": "code",
      "execution_count": null,
      "metadata": {
        "id": "FAwPeGM0Uzo4"
      },
      "outputs": [],
      "source": [
        "# Código de solución estudiante 2\n",
        ".\n",
        ".\n",
        ".\n",
        ".\n"
      ]
    },
    {
      "cell_type": "markdown",
      "metadata": {
        "id": "hs2NLGChU7ap"
      },
      "source": [
        "### Respuesta planteada en el ejercicio 2 usando (markdown)\n",
        " La respuesta es ........."
      ]
    },
    {
      "cell_type": "markdown",
      "metadata": {
        "id": "b2UxYGVPU_8e"
      },
      "source": [
        "### Ejercicio 3: utilizar la clase anteriormente creada para generar un modelo SARIMAX para el siguiente [conjunto de datos](https://github.com/quaesito/time-series-forecast-sarimax-prophet/blob/master/A4.xlsx?raw=true)."
      ]
    },
    {
      "cell_type": "markdown",
      "metadata": {
        "id": "7gxw0zHWU_8p"
      },
      "source": [
        "#### Estudiante 1: Judith Alejandra Hinojosa Rábago"
      ]
    },
    {
      "cell_type": "code",
      "execution_count": null,
      "metadata": {
        "id": "CyG3ovQuU_8t"
      },
      "outputs": [],
      "source": [
        "# Código de solución estudiante 1\n",
        ".\n",
        ".\n",
        ".\n",
        ".\n"
      ]
    },
    {
      "cell_type": "markdown",
      "metadata": {
        "id": "HWUf5u7jU_8y"
      },
      "source": [
        "#### Estudiante 2: Kaleb Azael Ávila Padilla"
      ]
    },
    {
      "cell_type": "code",
      "execution_count": null,
      "metadata": {
        "id": "SR_5NkZQU_80"
      },
      "outputs": [],
      "source": [
        "# Código de solución estudiante 2\n",
        ".\n",
        ".\n",
        ".\n",
        ".\n"
      ]
    },
    {
      "cell_type": "markdown",
      "metadata": {
        "id": "1oPcmWuqU9yW"
      },
      "source": [
        "### Respuesta planteada en el ejercicio 3 usando (markdown)\n",
        " La respuesta es ........."
      ]
    }
  ],
  "metadata": {
    "kernelspec": {
      "display_name": "Python 3 (ipykernel)",
      "language": "python",
      "name": "python3"
    },
    "language_info": {
      "codemirror_mode": {
        "name": "ipython",
        "version": 3
      },
      "file_extension": ".py",
      "mimetype": "text/x-python",
      "name": "python",
      "nbconvert_exporter": "python",
      "pygments_lexer": "ipython3",
      "version": "3.9.12"
    },
    "colab": {
      "provenance": []
    }
  },
  "nbformat": 4,
  "nbformat_minor": 0
}